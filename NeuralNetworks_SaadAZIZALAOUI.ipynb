{
 "cells": [
  {
   "cell_type": "markdown",
   "metadata": {},
   "source": [
    "# Introduction to Neural Networks \n",
    "\n",
    "\n",
    "** Ecole Centrale Nantes **\n",
    "\n",
    "** Diana Mateus **\n"
   ]
  },
  {
   "cell_type": "markdown",
   "metadata": {},
   "source": [
    "** Participants : **\n",
    " Saâd AZIZ ALAOUI et Ziang Xiong \n"
   ]
  },
  {
   "cell_type": "markdown",
   "metadata": {},
   "source": [
    "## General description\n",
    "In this lab we will create a simple classifier based on neural networks. We will progress in two parts:\n",
    "- In the first part, and to better understand the involved operations, we will create a single-neuron model and optimize its parameters \"by hand\". For this first part we will only use the **Numpy** library\n",
    "- We will then build a multi-layer perceptron with the built-in library **Keras** module and **tensorflow**. Tensorflow is already installed in the university computers. If using your own computer you should have already installed **tensorflow** or use **collab** online platform.\n",
    "\n",
    "\n"
   ]
  },
  {
   "cell_type": "code",
   "execution_count": 2,
   "metadata": {},
   "outputs": [],
   "source": [
    "import numpy as np\n",
    "import matplotlib.pyplot as plt\n",
    "import h5py\n",
    "import sklearn\n",
    "from sklearn.utils import shuffle\n"
   ]
  },
  {
   "cell_type": "markdown",
   "metadata": {},
   "source": [
    "### Loading the dataset\n",
    "Start by runing the following lines to load and visualize the data."
   ]
  },
  {
   "cell_type": "code",
   "execution_count": 3,
   "metadata": {},
   "outputs": [],
   "source": [
    "def load_dataset():\n",
    "    train_dataset = h5py.File('dataset/train_catvnoncat.h5', \"r\")\n",
    "    train_x = np.array(train_dataset[\"train_set_x\"][:]) \n",
    "    train_y = np.array(train_dataset[\"train_set_y\"][:])\n",
    "    test_dataset = h5py.File('dataset/test_catvnoncat.h5', \"r\")\n",
    "    test_x = np.array(test_dataset[\"test_set_x\"][:]) \n",
    "    test_y = np.array(test_dataset[\"test_set_y\"][:])\n",
    "    classes = np.array(test_dataset[\"list_classes\"][:]) \n",
    "    \n",
    "    train_y = train_y.reshape((1, train_y.shape[0]))\n",
    "    test_y = test_y.reshape((1, test_y.shape[0]))\n",
    "    \n",
    "    return train_x, train_y, test_x, test_y, classes\n",
    "\n",
    "train_x, train_y, test_x, test_y, classes=load_dataset()"
   ]
  },
  {
   "cell_type": "markdown",
   "metadata": {},
   "source": [
    "#### Visualize data"
   ]
  },
  {
   "cell_type": "code",
   "execution_count": 4,
   "metadata": {},
   "outputs": [
    {
     "data": {
      "image/png": "[encoded data removed]",
      "text/plain": [
       "<Figure size 432x288 with 1 Axes>"
      ]
     },
     "metadata": {
      "needs_background": "light"
     },
     "output_type": "display_data"
    },
    {
     "name": "stdout",
     "output_type": "stream",
     "text": [
      "Train X shape: (209, 64, 64, 3)\n",
      "We have 209 images of dimensionality 64x64x3\n"
     ]
    }
   ],
   "source": [
    "# run several times to visualize different data points\n",
    "# the title shows the ground truth class labels (0=no cat , 1 = cat)\n",
    "index = np.random.randint(low=0,high=train_y.shape[1])\n",
    "plt.imshow(train_x[index])\n",
    "plt.title(\"Image \"+str(index)+\" label \"+str(train_y[0,index]))\n",
    "plt.show()\n",
    "print (\"Train X shape: \" + str(train_x.shape))\n",
    "print (\"We have \"+str(train_x.shape[0]), \n",
    "       \"images of dimensionality \" \n",
    "       + str(train_x.shape[1])+ \"x\"\n",
    "       + str(train_x.shape[2])+ \"x\"\n",
    "       + str(train_x.shape[3]))"
   ]
  },
  {
   "cell_type": "markdown",
   "metadata": {},
   "source": [
    "#### Preprocessing\n",
    "In the following lines we vectorize the images (Instead of a 2-D image we will give as input to the models a 1-D vector). The normalization makes the image intensities be between 0 and 1, and converts the images to floats."
   ]
  },
  {
   "cell_type": "code",
   "execution_count": 5,
   "metadata": {},
   "outputs": [
    {
     "name": "stdout",
     "output_type": "stream",
     "text": [
      "Train X shape: (12288, 209)\n",
      "Train Y shape: (1, 209)\n",
      "Test X shape: (12288, 50)\n",
      "Test Y shape: (1, 50)\n"
     ]
    }
   ],
   "source": [
    "train_x = train_x.reshape(train_x.shape[0], -1).T\n",
    "test_x = test_x.reshape(test_x.shape[0], -1).T\n",
    "print (\"Train X shape: \" + str(train_x.shape))\n",
    "print (\"Train Y shape: \" + str(train_y.shape))\n",
    "print (\"Test X shape: \" + str(test_x.shape))\n",
    "print (\"Test Y shape: \" + str(test_y.shape))"
   ]
  },
  {
   "cell_type": "code",
   "execution_count": 6,
   "metadata": {},
   "outputs": [],
   "source": [
    "train_x = train_x/255.\n",
    "test_x = test_x/255.\n"
   ]
  },
  {
   "cell_type": "markdown",
   "metadata": {},
   "source": [
    "### 1. Classification with a single neuron \n"
   ]
  },
  {
   "cell_type": "markdown",
   "metadata": {},
   "source": [
    "**a)** Fill-in the following three functions to define the single neuron model (a single neuron in the hidden layer):\n",
    "- A function **initialize_parameters** of the neuron. The function will randomly initializes the model's weights with small values. Initialize the bias with 0. What is the number of weights required? pass this information as a parameter to the function.\n",
    "- A function **sigmoid** that computes the sigmoid activation function\n",
    "- A function **neuron** that given an input vector, the weights and bias, computes the output of the single neuron model"
   ]
  },
  {
   "cell_type": "code",
   "execution_count": 7,
   "metadata": {},
   "outputs": [],
   "source": [
    "def sigmoid(z):\n",
    "    z = 1/(1+np.exp(-z))\n",
    "    return z"
   ]
  },
  {
   "cell_type": "code",
   "execution_count": 8,
   "metadata": {},
   "outputs": [],
   "source": [
    "def initialize_parameters(dim):\n",
    "    w = (np.random.rand(dim,1))*0.000001 # valeur d'ini\n",
    "    b = 0\n",
    "    return w, b\n"
   ]
  },
  {
   "cell_type": "code",
   "execution_count": 9,
   "metadata": {},
   "outputs": [],
   "source": [
    "def neuron(w,b,X):\n",
    "    pred_y = sigmoid(np.matmul(w.T,X) + b)\n",
    "    return pred_y"
   ]
  },
  {
   "cell_type": "markdown",
   "metadata": {},
   "source": [
    "**b)** **Forward Pass:**\n",
    "Use the three functions above to compute a first forward pass for the input matrix $X$ containing the loaded dataset, for some initialization of the weights and bias.\n",
    " \n",
    " \\begin{align}\n",
    " Y_{\\rm pred}=\\sigma(w^\\top X+b) = [y_{\\rm pred}^{(1)},y_{\\rm pred}^{(2)},\\dots,y_{\\rm pred}^{(m)}]\n",
    " \\end{align}\n",
    " "
   ]
  },
  {
   "cell_type": "code",
   "execution_count": 10,
   "metadata": {},
   "outputs": [
    {
     "name": "stdout",
     "output_type": "stream",
     "text": [
      "(12288, 1)\n"
     ]
    }
   ],
   "source": [
    "dim = train_x.shape[0]\n",
    "w, b = initialize_parameters(dim)\n",
    "print(w.shape)\n",
    "pred_y = neuron(w, b, train_x)"
   ]
  },
  {
   "cell_type": "markdown",
   "metadata": {},
   "source": [
    "**c) Cost estimation:**\n",
    " \n",
    "We will use a binary cross-entropy loss, so that the empirical risk can be computed as:\n",
    " \\begin{align}\n",
    " E = - \\frac{1}{m} \\sum_{i=1}^m \n",
    " y^{(i)} \\log(y_{\\rm pred}^{(i)}) +\n",
    " (1-y^{(i)}) \\log(1-y_{\\rm pred}^{(i)})\n",
    " \\end{align}\n",
    " \n",
    " The following cross-entropy function should give as result the scalar cost value computed over the entire dataset"
   ]
  },
  {
   "cell_type": "code",
   "execution_count": 28,
   "metadata": {},
   "outputs": [],
   "source": [
    "def crossentropy(Y,Ypred):\n",
    "    \n",
    "    eps = 10**-6\n",
    "    cost = -np.sum(Y * np.log(Ypred + eps) + (1 - Y) * np.log(1 - Ypred+ eps)) / Ypred.shape[1]\n",
    "    \n",
    "    return cost"
   ]
  },
  {
   "cell_type": "markdown",
   "metadata": {},
   "source": [
    "**d) Back propagation:**\n",
    "\n",
    "After initializing the parameters and doing a forward pass, we need to backpropagate the cost by computing the gradient with respect to the model parameters to later update the weights\n",
    "\n",
    "\\begin{align}\n",
    "\\frac{\\partial E}{\\partial w} = \\\\\n",
    "\\frac{\\partial E}{\\partial b} = \n",
    "\\end{align}\n",
    "\n",
    "See a demonstration of the gradient computation in \n",
    "https://en.wikipedia.org/wiki/Cross_entropy\n",
    "\n",
    "Fill-in the backpropagation function which receives as input the the training set (X,Y), as well as the current predictions and returns the gradients updates for the weights and bias\n",
    "\n",
    "Hint: When the error is computed for several samples simultaneously, the gradient is averaged over the contribution of different samples."
   ]
  },
  {
   "cell_type": "code",
   "execution_count": 29,
   "metadata": {},
   "outputs": [],
   "source": [
    "def backpropagate(X, Y, Ypred):\n",
    "    m = X.shape[1]\n",
    "    \n",
    "    #find gradient (back propagation)\n",
    "    dw = np.matmul(X, (Ypred - Y).T) / m\n",
    "    db = np.sum(Ypred - Y) / m\n",
    "    grads = {\"dw\": dw,\n",
    "             \"db\": db} \n",
    "    \n",
    "    return grads\n",
    "\n",
    "grads = backpropagate(train_x, train_y.ravel(), pred_y)"
   ]
  },
  {
   "cell_type": "markdown",
   "metadata": {},
   "source": [
    "**e) Optimization**\n",
    "After initializing the parameters, computing the cost function, and calculating gradients, we can now update the parameters using gradient descent. Use the functions implemented above to fill_in the \"gradient_descent\" function that optimizes the parameters given a training set X, Y, a fixed number of iterations, and a learning_rate. Store and plot the value of the loss function at each iteration"
   ]
  },
  {
   "cell_type": "code",
   "execution_count": 58,
   "metadata": {},
   "outputs": [
    {
     "name": "stdout",
     "output_type": "stream",
     "text": [
      "Cost after iteration 0: 0.693507\n",
      "Cost after iteration 100: 0.584506\n",
      "Cost after iteration 200: 0.466947\n",
      "Cost after iteration 300: 0.376005\n",
      "Cost after iteration 400: 0.331462\n",
      "Cost after iteration 500: 0.303272\n",
      "Cost after iteration 600: 0.279878\n",
      "Cost after iteration 700: 0.260041\n",
      "Cost after iteration 800: 0.242939\n",
      "Cost after iteration 900: 0.228003\n",
      "Cost after iteration 1000: 0.214818\n",
      "Cost after iteration 1100: 0.203077\n",
      "Cost after iteration 1200: 0.192543\n",
      "Cost after iteration 1300: 0.183032\n",
      "Cost after iteration 1400: 0.174397\n",
      "Cost after iteration 1500: 0.166520\n",
      "Cost after iteration 1600: 0.159303\n",
      "Cost after iteration 1700: 0.152666\n",
      "Cost after iteration 1800: 0.146541\n",
      "Cost after iteration 1900: 0.140871\n"
     ]
    }
   ],
   "source": [
    "def gradient_descent(X, Y, iterations, learning_rate):\n",
    "    costs = []\n",
    "    w, b = initialize_parameters(X.shape[0])\n",
    "    \n",
    "    for i in range(iterations):\n",
    "        Ypred = neuron(w, b, X)\n",
    "        cost = crossentropy(Y, Ypred)\n",
    "        grads = backpropagate(X, Y, Ypred)\n",
    "        \n",
    "        #update parameters\n",
    "        w -= learning_rate * grads['dw']\n",
    "        b -= learning_rate * grads['db']\n",
    "        costs.append(cost)\n",
    "        \n",
    "        if i % 100 == 0:\n",
    "            print (\"Cost after iteration %i: %f\" %(i, cost))\n",
    "       \n",
    "    return w,b, costs\n",
    "\n",
    "w, b, costs = gradient_descent(train_x,train_y.ravel(),iterations=2000, learning_rate = 0.005)"
   ]
  },
  {
   "cell_type": "markdown",
   "metadata": {},
   "source": [
    "**e) Plot the training curve**\n",
    "Plot the evolution of the cost vs the iterations "
   ]
  },
  {
   "cell_type": "code",
   "execution_count": 59,
   "metadata": {},
   "outputs": [
    {
     "data": {
      "image/png": "[encoded data removed]",
      "text/plain": [
       "<Figure size 432x288 with 1 Axes>"
      ]
     },
     "metadata": {
      "needs_background": "light"
     },
     "output_type": "display_data"
    }
   ],
   "source": [
    "plt.plot(costs)\n",
    "plt.ylabel('cost')\n",
    "plt.xlabel('iterations')\n",
    "plt.show()"
   ]
  },
  {
   "cell_type": "markdown",
   "metadata": {},
   "source": [
    "**f) Prediction**\n",
    "Use the optimized parameters to make predictions both for the train and test sets and compute the accuracy for each. What do you observe?"
   ]
  },
  {
   "cell_type": "code",
   "execution_count": 55,
   "metadata": {},
   "outputs": [
    {
     "name": "stdout",
     "output_type": "stream",
     "text": [
      "Train Acc: 92.07709512626529 %\n",
      "Test Acc: 65.57764305174355 %\n"
     ]
    }
   ],
   "source": [
    "def predict(w, b, X):    \n",
    "    y_pred = neuron(w,b,X)\n",
    "    return y_pred\n",
    "\n",
    "# predict \n",
    "train_pred_y = predict(w, b, train_x)\n",
    "test_pred_y = predict(w, b, test_x)\n",
    "print(\"Train Acc: {} %\".format(100 - np.mean(np.abs(train_pred_y - train_y)) * 100))\n",
    "print(\"Test Acc: {} %\".format(100 - np.mean(np.abs(test_pred_y - test_y)) * 100))\n",
    "    "
   ]
  },
  {
   "cell_type": "markdown",
   "metadata": {},
   "source": [
    "**g) Early stopping** \n",
    "- Adapt the gradient descent function to consider part (a percentage) of the training data for validation. Use the validation set to choose the training hyperparameters (learning_rate, iterations). \n",
    "- Plot the training and validation curves\n",
    "- Report again the training and test accuracy and loss for the new trained model\n",
    "- What do you observe\n",
    "\n"
   ]
  },
  {
   "cell_type": "code",
   "execution_count": 60,
   "metadata": {},
   "outputs": [],
   "source": [
    "def gradient_descent_early_stopping(X, Y, iterations, learning_rate, percentage=.1):\n",
    "    max_ind = int(Y.shape[0] * (1 - percentage))\n",
    "    train_x, val_x = X[:, :max_ind], X[:, max_ind:]\n",
    "    train_y, val_y = Y[:max_ind], Y[max_ind:]\n",
    "    \n",
    "    train_costs, val_costs = [], []\n",
    "    w, b = initialize_parameters(train_x.shape[0])\n",
    "    \n",
    "    for i in range(iterations):\n",
    "        Ypred = neuron(w, b, val_x)\n",
    "        val_cost = crossentropy(val_y, Ypred)\n",
    "        \n",
    "        Ypred = neuron(w, b, train_x)\n",
    "        train_cost = crossentropy(train_y, Ypred)\n",
    "        grads = backpropagate(train_x, train_y, Ypred)\n",
    "        \n",
    "        #update parameters\n",
    "        w -= learning_rate * grads['dw']\n",
    "        b -= learning_rate * grads['db']\n",
    "       \n",
    "        train_costs.append(train_cost)\n",
    "        val_costs.append(val_cost)\n",
    "        \n",
    "        if i % 100 == 0:\n",
    "            print (\"Train cost after iteration %i: %f\" %(i, train_cost))\n",
    "            print (\"Val cost after iteration %i: %f\" %(i, val_cost))\n",
    "    \n",
    "    return w, b, train_costs, val_costs"
   ]
  },
  {
   "cell_type": "code",
   "execution_count": 61,
   "metadata": {},
   "outputs": [
    {
     "name": "stdout",
     "output_type": "stream",
     "text": [
      "Train cost after iteration 0: 0.693472\n",
      "Val cost after iteration 0: 0.693830\n",
      "Train cost after iteration 100: 0.592526\n",
      "Val cost after iteration 100: 0.859225\n",
      "Train cost after iteration 200: 0.460676\n",
      "Val cost after iteration 200: 0.791770\n",
      "Train cost after iteration 300: 0.358426\n",
      "Val cost after iteration 300: 0.707003\n",
      "Train cost after iteration 400: 0.313244\n",
      "Val cost after iteration 400: 0.687228\n",
      "Train cost after iteration 500: 0.284513\n",
      "Val cost after iteration 500: 0.706959\n",
      "Train cost after iteration 600: 0.260921\n",
      "Val cost after iteration 600: 0.724923\n",
      "Train cost after iteration 700: 0.241091\n",
      "Val cost after iteration 700: 0.741647\n",
      "Train cost after iteration 800: 0.224125\n",
      "Val cost after iteration 800: 0.757447\n",
      "Train cost after iteration 900: 0.209409\n",
      "Val cost after iteration 900: 0.772506\n",
      "Train cost after iteration 1000: 0.196501\n",
      "Val cost after iteration 1000: 0.786943\n",
      "Train cost after iteration 1100: 0.185074\n",
      "Val cost after iteration 1100: 0.800832\n",
      "Train cost after iteration 1200: 0.174880\n",
      "Val cost after iteration 1200: 0.814230\n",
      "Train cost after iteration 1300: 0.165725\n",
      "Val cost after iteration 1300: 0.827174\n",
      "Train cost after iteration 1400: 0.157457\n",
      "Val cost after iteration 1400: 0.839697\n",
      "Train cost after iteration 1500: 0.149952\n",
      "Val cost after iteration 1500: 0.851824\n",
      "Train cost after iteration 1600: 0.143107\n",
      "Val cost after iteration 1600: 0.863577\n",
      "Train cost after iteration 1700: 0.136841\n",
      "Val cost after iteration 1700: 0.874976\n",
      "Train cost after iteration 1800: 0.131083\n",
      "Val cost after iteration 1800: 0.886039\n",
      "Train cost after iteration 1900: 0.125773\n",
      "Val cost after iteration 1900: 0.896784\n",
      "Train Acc: 85.74304559576497 %\n",
      "Test Acc: 66.01491373689649 %\n"
     ]
    }
   ],
   "source": [
    "w, b, train_costs, val_costs = gradient_descent_early_stopping(train_x, train_y.ravel(), 2000, learning_rate=0.005)\n",
    "train_pred_y = predict(w, b, train_x)\n",
    "test_pred_y = predict(w, b, test_x)\n",
    "loss =  crossentropy(train_y, train_pred_y)\n",
    "print(\"Train Acc: {} %\".format(100 - np.mean(np.abs(train_pred_y - train_y)) * 100))\n",
    "print(\"Test Acc: {} %\".format(100 - np.mean(np.abs(test_pred_y - test_y)) * 100))"
   ]
  },
  {
   "cell_type": "code",
   "execution_count": 52,
   "metadata": {},
   "outputs": [
    {
     "data": {
      "image/png": "[encoded data removed]",
      "text/plain": [
       "<Figure size 432x288 with 2 Axes>"
      ]
     },
     "metadata": {
      "needs_background": "light"
     },
     "output_type": "display_data"
    }
   ],
   "source": [
    "plt.subplot(1,2,1)\n",
    "plt.plot(val_costs)\n",
    "plt.ylabel('Val Cost')\n",
    "plt.xlabel('Iterations')\n",
    "plt.subplot(1,2,2)\n",
    "plt.plot(train_costs)\n",
    "plt.ylabel('Train Cost')\n",
    "plt.xlabel('Iterations')\n",
    "plt.show()"
   ]
  },
  {
   "cell_type": "markdown",
   "metadata": {},
   "source": [
    "L'early stopping est une méthode de régularisation qui implique d'interrompre l'entraînement d'un modèle d'apprentissage lorsque la perte d'un ensemble de données de validation commence à augmenter et que les performances de généralisation se dégradent. On voit que pour certaines valeurs d'iteration / learning rate, notre early stopping a certes un train acc plus faible, mais un test acc plus élevé ce qui est le but !\n"
   ]
  },
  {
   "cell_type": "markdown",
   "metadata": {},
   "source": [
    "### 2. CNNs with Keras\n",
    "\n",
    "Adapt the example in this website https://keras.io/examples/vision/mnist_convnet/ to our problem. To this end:\n",
    "- change the number of classes and the input size\n",
    "- remove the expand_dims(x_train, -1): it is not necessary to expand the dimensions since our input is 3-dimensional \n",
    "- you may need to transpose the labels vector\n",
    "- change the categorical cross-entropy to the binary cross entropy given that our problem is binary classification. \n",
    "- also change the softmax to sigmoid, the more appropriate activation function for binary data\n",
    "\n",
    "We can choose a single neuron output passed through sigmoid, and then set a threshold to choose the class, or use two neuron output and then perform a softmax.\n",
    "\n",
    "**2.1** Can you get the accuracy better than in our hand single-neuron model?Try different configurations and explain the changes you have made.\n",
    "\n",
    "**2.2** Compute the train and test loss and accuracy after the model has been trained.  What model parameters does the ``fit`` function retain?\n",
    "\n",
    "**2.3** How many parameters does the network have, explain where the number comes from.\n",
    "\n",
    "**2.4** What is the receptive field of the network https://distill.pub/2019/computing-receptive-fields/"
   ]
  },
  {
   "cell_type": "code",
   "execution_count": 62,
   "metadata": {},
   "outputs": [],
   "source": [
    "import numpy as np\n",
    "from tensorflow import keras\n",
    "from tensorflow.keras import layers"
   ]
  },
  {
   "cell_type": "code",
   "execution_count": 63,
   "metadata": {},
   "outputs": [
    {
     "name": "stdout",
     "output_type": "stream",
     "text": [
      "x_train shape: (209, 64, 64, 3)\n",
      "209 train samples\n",
      "50 test samples\n"
     ]
    }
   ],
   "source": [
    "# Model / data parameters\n",
    "# num_classes = 1\n",
    "# input_shape = x_train.shape[1:]\n",
    "#print(input_shape)\n",
    "\n",
    "# the data, split between train and test sets\n",
    "x_train, y_train, x_test, y_test, classes=load_dataset()\n",
    "num_classes = 1\n",
    "input_shape = x_train.shape[1:]\n",
    "# Scale images to the [0, 1] range\n",
    "x_train = x_train.astype(\"float32\") / 255\n",
    "x_test = x_test.astype(\"float32\") / 255\n",
    "\n",
    "# Make sure images have shape (64, 64, 3)\n",
    "print(\"x_train shape:\", x_train.shape)\n",
    "print(x_train.shape[0], \"train samples\")\n",
    "print(x_test.shape[0], \"test samples\")\n",
    "\n",
    "# convert class vectors to binary class matrices\n",
    "y_train = y_train.T\n",
    "y_test = y_test.T\n",
    "\n",
    "\n"
   ]
  },
  {
   "cell_type": "code",
   "execution_count": 64,
   "metadata": {},
   "outputs": [
    {
     "name": "stdout",
     "output_type": "stream",
     "text": [
      "Model: \"sequential\"\n",
      "_________________________________________________________________\n",
      " Layer (type)                Output Shape              Param #   \n",
      "=================================================================\n",
      " conv2d (Conv2D)             (None, 62, 62, 32)        896       \n",
      "                                                                 \n",
      " max_pooling2d (MaxPooling2D  (None, 31, 31, 32)       0         \n",
      " )                                                               \n",
      "                                                                 \n",
      " conv2d_1 (Conv2D)           (None, 29, 29, 64)        18496     \n",
      "                                                                 \n",
      " max_pooling2d_1 (MaxPooling  (None, 14, 14, 64)       0         \n",
      " 2D)                                                             \n",
      "                                                                 \n",
      " flatten (Flatten)           (None, 12544)             0         \n",
      "                                                                 \n",
      " dropout (Dropout)           (None, 12544)             0         \n",
      "                                                                 \n",
      " dense (Dense)               (None, 1)                 12545     \n",
      "                                                                 \n",
      "=================================================================\n",
      "Total params: 31,937\n",
      "Trainable params: 31,937\n",
      "Non-trainable params: 0\n",
      "_________________________________________________________________\n"
     ]
    }
   ],
   "source": [
    "#build the model\n",
    "model = keras.Sequential(\n",
    "    [\n",
    "        keras.Input(shape=input_shape),\n",
    "        layers.Conv2D(32, kernel_size=(3, 3), activation=\"relu\"),\n",
    "        layers.MaxPooling2D(pool_size=(2, 2)),\n",
    "        layers.Conv2D(64, kernel_size=(3, 3), activation=\"relu\"),\n",
    "        layers.MaxPooling2D(pool_size=(2, 2)),\n",
    "        layers.Flatten(),\n",
    "        layers.Dropout(0.5),\n",
    "        layers.Dense(num_classes, activation=\"sigmoid\"),\n",
    "    ])\n",
    "model.summary()"
   ]
  },
  {
   "cell_type": "code",
   "execution_count": 65,
   "metadata": {},
   "outputs": [
    {
     "name": "stdout",
     "output_type": "stream",
     "text": [
      "Epoch 1/15\n",
      "47/47 [==============================] - 2s 24ms/step - loss: 0.6600 - accuracy: 0.5904 - val_loss: 0.4983 - val_accuracy: 0.8095\n",
      "Epoch 2/15\n",
      "47/47 [==============================] - 1s 17ms/step - loss: 0.5180 - accuracy: 0.6702 - val_loss: 0.5711 - val_accuracy: 0.7619\n",
      "Epoch 3/15\n",
      "47/47 [==============================] - 1s 18ms/step - loss: 0.4641 - accuracy: 0.7926 - val_loss: 0.5135 - val_accuracy: 0.8095\n",
      "Epoch 4/15\n",
      "47/47 [==============================] - 1s 17ms/step - loss: 0.3903 - accuracy: 0.8351 - val_loss: 0.4713 - val_accuracy: 0.8095\n",
      "Epoch 5/15\n",
      "47/47 [==============================] - 1s 17ms/step - loss: 0.3254 - accuracy: 0.8670 - val_loss: 0.6818 - val_accuracy: 0.7143\n",
      "Epoch 6/15\n",
      "47/47 [==============================] - 1s 16ms/step - loss: 0.3785 - accuracy: 0.8085 - val_loss: 0.6082 - val_accuracy: 0.6667\n",
      "Epoch 7/15\n",
      "47/47 [==============================] - 1s 17ms/step - loss: 0.3035 - accuracy: 0.8777 - val_loss: 0.6269 - val_accuracy: 0.7619\n",
      "Epoch 8/15\n",
      "47/47 [==============================] - 1s 17ms/step - loss: 0.2458 - accuracy: 0.9255 - val_loss: 0.8153 - val_accuracy: 0.7143\n",
      "Epoch 9/15\n",
      "47/47 [==============================] - 1s 15ms/step - loss: 0.2606 - accuracy: 0.8989 - val_loss: 0.7150 - val_accuracy: 0.7143\n",
      "Epoch 10/15\n",
      "47/47 [==============================] - 1s 17ms/step - loss: 0.2364 - accuracy: 0.9043 - val_loss: 0.7531 - val_accuracy: 0.7143\n",
      "Epoch 11/15\n",
      "47/47 [==============================] - 1s 17ms/step - loss: 0.1696 - accuracy: 0.9362 - val_loss: 0.8279 - val_accuracy: 0.7143\n",
      "Epoch 12/15\n",
      "47/47 [==============================] - 1s 18ms/step - loss: 0.1436 - accuracy: 0.9521 - val_loss: 1.0581 - val_accuracy: 0.7143\n",
      "Epoch 13/15\n",
      "47/47 [==============================] - 1s 20ms/step - loss: 0.1994 - accuracy: 0.9202 - val_loss: 0.8808 - val_accuracy: 0.7619\n",
      "Epoch 14/15\n",
      "47/47 [==============================] - 1s 17ms/step - loss: 0.1597 - accuracy: 0.9149 - val_loss: 0.9340 - val_accuracy: 0.7619\n",
      "Epoch 15/15\n",
      "47/47 [==============================] - 1s 17ms/step - loss: 0.1174 - accuracy: 0.9468 - val_loss: 1.1788 - val_accuracy: 0.7143\n"
     ]
    },
    {
     "data": {
      "text/plain": [
       "<keras.callbacks.History at 0x1c9203122b0>"
      ]
     },
     "execution_count": 65,
     "metadata": {},
     "output_type": "execute_result"
    }
   ],
   "source": [
    "#comiple and fit\n",
    "batch_size = 4\n",
    "epochs = 15\n",
    "\n",
    "model.compile(loss=\"binary_crossentropy\", optimizer=\"adam\", metrics=[\"accuracy\"])\n",
    "\n",
    "model.fit(x_train, y_train, batch_size=batch_size, epochs=epochs, validation_split=0.1)"
   ]
  },
  {
   "cell_type": "code",
   "execution_count": 66,
   "metadata": {},
   "outputs": [
    {
     "name": "stdout",
     "output_type": "stream",
     "text": [
      "Train loss: 0.2291235625743866\n",
      "Train accuracy: 0.9234449863433838\n",
      "Test loss: 0.765349268913269\n",
      "Test accuracy: 0.6800000071525574\n"
     ]
    }
   ],
   "source": [
    "#evaluate\n",
    "score_train = model.evaluate(x_train, y_train, verbose=0)\n",
    "score_test = model.evaluate(x_test, y_test, verbose=0)\n",
    "print(\"Train loss:\", score_train[0])\n",
    "print(\"Train accuracy:\", score_train[1])\n",
    "print(\"Test loss:\", score_test[0])\n",
    "print(\"Test accuracy:\", score_test[1])"
   ]
  },
  {
   "cell_type": "markdown",
   "metadata": {},
   "source": [
    "**2.1** Can you get the accuracy better than in our hand single-neuron model?Try different configurations and explain the changes you have made.\n",
    "\n",
    "\n",
    "- Definitely，it's better than the hand single-neuron model as we got better train accuracy and test accuracy.\n",
    "- As the title says，we changed the categorical cross-entropy to the binary cross entropy given that our problem is binary classification. And we also change the softmax to sigmoid, the more appropriate activation function for binary data. In addition, we use the fonction adam as the optimizer to replace the gradient descent function .\n",
    "- for the choose of batch_size and epochs, we choose batch_size = 4 as there are only 209 train samples, and we let epochs =15 which can ensure the train accuracy and not cost too much time.\n"
   ]
  },
  {
   "cell_type": "markdown",
   "metadata": {},
   "source": [
    "**2.2** Compute the train and test loss and accuracy after the model has been trained.  What model parameters does the ``fit`` function retain?\n",
    "\n",
    "![retain.png](data:image/png;base64,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)\n",
    "\n",
    "- As we can see in the image, the fit function retains the loss, accuracy, val_loss, val_accuracy.（Train loss，Train accuracy，Test loss，Test accuracy）"
   ]
  },
  {
   "cell_type": "markdown",
   "metadata": {},
   "source": [
    "**2.3** How many parameters does the network have, explain where the number comes from.\n",
    "\n",
    "![param.png](data:image/png;base64,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)\n",
    "\n",
    "- In total, we have 31937 parameters, where they come from have been shown in the image above.\n",
    "- For the first convolution layer: 896 parameters { (3 * 3 * 3+1)*32 = 896 }\n",
    "- For the second convolution layer: 18496 parameters { (3 * 3 * 32+1)*64 = 18496 }\n",
    "- For the dense layer: 12545 parameters { (12544+1)*1 = 12545 }\n",
    " "
   ]
  },
  {
   "cell_type": "markdown",
   "metadata": {},
   "source": [
    "**2.4** What is the receptive field of the network https://distill.pub/2019/computing-receptive-fields/\n",
    "\n",
    "- ![receptive field .png](data:image/png;base64,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)\n",
    "\n",
    "According to this formula, given from the paper.\n",
    "- For this network, L=2, k1 = 3 * 3, k2 = 3 * 3, s1=1，s2=1\n",
    "- So we can get that the receptive field = （9-1) * 1+(9-1) * 1*1+1=17"
   ]
  },
  {
   "cell_type": "markdown",
   "metadata": {},
   "source": [
    "## BONUS: \n",
    "Replace the fit function by your own tensorflow  implementation\n",
    "\n",
    "1. Instantiate one of keras.optimizers to train the model.\n",
    "\n",
    "optimizer = \n",
    "\n",
    "2. Instantiate a loss from keras.losses\n",
    "\n",
    "loss_fn = \n",
    "\n",
    "3. Prepare the metrics. Instatiate the metrics from keras.metrics\n",
    "\n",
    "train_acc_metric =\n",
    "val_acc_metric =\n",
    "\n",
    "4. Stochastic Gradient Loop\n",
    "    * Iterate over the dataset in batches with \n",
    "    * Open a GradientTape() scope \n",
    "    * Inside this scope call the model (forward pass)\n",
    "    * Compute the loss outside the scope\n",
    "    * Retrieve the weight gradients\n",
    "    * Use the optimimzer to update the weights with the gradients\n",
    "\n"
   ]
  },
  {
   "cell_type": "code",
   "execution_count": 68,
   "metadata": {},
   "outputs": [
    {
     "name": "stderr",
     "output_type": "stream",
     "text": [
      "C:\\Users\\saada\\anaconda3\\lib\\site-packages\\keras\\optimizer_v2\\adagrad.py:74: UserWarning: The `lr` argument is deprecated, use `learning_rate` instead.\n",
      "  super(Adagrad, self).__init__(name, **kwargs)\n"
     ]
    }
   ],
   "source": [
    "import tensorflow as tf\n",
    "optimizer = keras.optimizers.Adagrad(lr=0.01, epsilon=None, decay=0.0)\n",
    "loss_fn = keras.losses.BinaryCrossentropy()\n",
    "\n"
   ]
  }
 ],
 "metadata": {
  "kernelspec": {
   "display_name": "Python 3",
   "language": "python",
   "name": "python3"
  },
  "language_info": {
   "codemirror_mode": {
    "name": "ipython",
    "version": 3
   },
   "file_extension": ".py",
   "mimetype": "text/x-python",
   "name": "python",
   "nbconvert_exporter": "python",
   "pygments_lexer": "ipython3",
   "version": "3.8.8"
  }
 },
 "nbformat": 4,
 "nbformat_minor": 4
}
